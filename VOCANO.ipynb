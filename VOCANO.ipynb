{
  "nbformat": 4,
  "nbformat_minor": 0,
  "metadata": {
    "colab": {
      "name": "VOCANO.ipynb",
      "provenance": [],
      "collapsed_sections": []
    },
    "kernelspec": {
      "name": "python3",
      "display_name": "Python 3"
    },
    "accelerator": "GPU"
  },
  "cells": [
    {
      "cell_type": "markdown",
      "metadata": {
        "id": "fu5AGh45O2Sf"
      },
      "source": [
        "## VOCANO: Transcribing singing vocal notes in polyphonic music using semi-supervised learning\n",
        "Transcribe vocal wav files into midi."
      ]
    },
    {
      "cell_type": "markdown",
      "metadata": {
        "id": "j3K4-c04PKgy"
      },
      "source": [
        "## Requirements\n",
        "Please execute the following code to prepare for transcription."
      ]
    },
    {
      "cell_type": "code",
      "metadata": {
        "id": "6J5ZSz9Z6Be2",
        "cellView": "form"
      },
      "source": [
        "#@title Cloning from github\n",
        "\n",
        "!git clone https://github.com/B05901022/VOCANO.git"
      ],
      "execution_count": null,
      "outputs": []
    },
    {
      "cell_type": "code",
      "metadata": {
        "id": "rtBzZvbJLBvu",
        "cellView": "form"
      },
      "source": [
        "#@title Moving to directory\n",
        "\n",
        "cd VOCANO"
      ],
      "execution_count": null,
      "outputs": []
    },
    {
      "cell_type": "code",
      "metadata": {
        "id": "LM0QN6To_qJn",
        "cellView": "form"
      },
      "source": [
        "#@title Script for downloading apex\n",
        "\n",
        "%%writefile setup.sh\n",
        "\n",
        "export CUDA_HOME=/usr/local/cuda-10.1\n",
        "git clone https://github.com/NVIDIA/apex\n",
        "pip install -v --no-cache-dir --global-option=\"--cpp_ext\" --global-option=\"--cuda_ext\" ./apex"
      ],
      "execution_count": null,
      "outputs": []
    },
    {
      "cell_type": "code",
      "metadata": {
        "id": "d7L_LKjz_5TE",
        "cellView": "form"
      },
      "source": [
        "#@title Download apex\n",
        "\n",
        "!sh setup.sh"
      ],
      "execution_count": null,
      "outputs": []
    },
    {
      "cell_type": "code",
      "metadata": {
        "id": "8OXln5Ta_KdH",
        "cellView": "form"
      },
      "source": [
        "#@title Download other prerequisites\n",
        "\n",
        "!pip install -r requirements.txt"
      ],
      "execution_count": null,
      "outputs": []
    },
    {
      "cell_type": "markdown",
      "metadata": {
        "id": "m5mZ2CKCRid-"
      },
      "source": [
        "## Uploading Files for Transcription\n",
        "Please use one of the provided ways to upload your vocal file for transcription."
      ]
    },
    {
      "cell_type": "code",
      "metadata": {
        "cellView": "form",
        "id": "OCGOlG_YQell"
      },
      "source": [
        "#@title Upload MP3 (Please allow all cookies to avoid errors)\n",
        "\n",
        "from google.colab import files\n",
        "\n",
        "ff = files.upload()\n",
        "uploaded_audio = list(ff.keys())[0]\n",
        "\n",
        "!test -f \"$uploaded_audio\".wav && rm \"$uploaded_audio\".wav\n",
        "!ffmpeg -i \"$uploaded_audio\".mp3 \"$uploaded_audio\".wav\n",
        "\n",
        "uploaded_audio = f\"{uploaded_audio}.wav\""
      ],
      "execution_count": null,
      "outputs": []
    },
    {
      "cell_type": "code",
      "metadata": {
        "id": "8xWbkhFRJE-x",
        "cellView": "form"
      },
      "source": [
        "#@title Upload WAV (Please allow all cookies to avoid errors)\n",
        "\n",
        "from google.colab import files\n",
        "\n",
        "ff = files.upload()\n",
        "uploaded_audio = list(ff.keys())[0]"
      ],
      "execution_count": null,
      "outputs": []
    },
    {
      "cell_type": "markdown",
      "metadata": {
        "id": "oBSq9QzmRHBn"
      },
      "source": [
        "## Transcription\n",
        "Main script for singing voice transcription."
      ]
    },
    {
      "cell_type": "code",
      "metadata": {
        "id": "bq34-B6WCuqi",
        "cellView": "form"
      },
      "source": [
        "#@title Transcription\n",
        "\n",
        "import argparse\n",
        "from pathlib import Path\n",
        "from vocano.core import SingingVoiceTranscription\n",
        "\n",
        "file_name = input('Output file name:')\n",
        "\n",
        "args = argparse.Namespace()\n",
        "args.name = file_name\n",
        "args.feat_dir = Path('./generated/feat')\n",
        "args.pitch_dir = Path('./generated/pitch')\n",
        "args.midi_dir = Path('./generated/midi')\n",
        "args.output_wav_dir = Path('./generated/wav')\n",
        "args.wavfile_dir = Path(uploaded_audio)\n",
        "args.pitch_gt_dir = Path('groundtruth/pitch.npy')\n",
        "args.checkpoint_file = './checkpoint/model.pt'\n",
        "args.save_extracted = False\n",
        "args.use_pre_extracted = False\n",
        "args.use_groundtruth = False\n",
        "args.device = '0'\n",
        "args.use_cp = True\n",
        "args.batch_size = 64\n",
        "args.num_workers = 0\n",
        "args.pin_memory = True\n",
        "args.amp_level = 'O0'\n",
        "\n",
        "solver = SingingVoiceTranscription(args)\n",
        "\n",
        "solver.transcription()"
      ],
      "execution_count": null,
      "outputs": []
    }
  ]
}